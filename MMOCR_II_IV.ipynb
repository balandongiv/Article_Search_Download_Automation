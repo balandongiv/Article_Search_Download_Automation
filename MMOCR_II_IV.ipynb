{
  "nbformat": 4,
  "nbformat_minor": 0,
  "metadata": {
    "colab": {
      "name": "MMOCR-II-IV",
      "provenance": [],
      "collapsed_sections": [],
      "mount_file_id": "1agz9JrXGzvuDgIUXDtL-fxp6MyXs9Db6",
      "authorship_tag": "ABX9TyM0yBDD05Vt9X+KWoIk4RSG",
      "include_colab_link": true
    },
    "kernelspec": {
      "name": "python3",
      "display_name": "Python 3"
    },
    "language_info": {
      "name": "python"
    },
    "accelerator": "GPU"
  },
  "cells": [
    {
      "cell_type": "markdown",
      "metadata": {
        "id": "view-in-github",
        "colab_type": "text"
      },
      "source": [
        "<a href=\"https://colab.research.google.com/github/balandongiv/Article_Search_Download_Automation/blob/master/MMOCR_II_IV.ipynb\" target=\"_parent\"><img src=\"https://colab.research.google.com/assets/colab-badge.svg\" alt=\"Open In Colab\"/></a>"
      ]
    },
    {
      "cell_type": "code",
      "execution_count": 1,
      "metadata": {
        "colab": {
          "base_uri": "https://localhost:8080/"
        },
        "id": "aSW1K_9NWz-d",
        "outputId": "cd8d80bb-582b-40f3-adc6-a016f25bfb7f"
      },
      "outputs": [
        {
          "output_type": "stream",
          "name": "stdout",
          "text": [
            "/\n",
            "Name: torch\n",
            "Version: 1.11.0+cu113\n",
            "Summary: Tensors and Dynamic neural networks in Python with strong GPU acceleration\n",
            "Home-page: https://pytorch.org/\n",
            "Author: PyTorch Team\n",
            "Author-email: packages@pytorch.org\n",
            "License: BSD-3\n",
            "Location: /usr/local/lib/python3.7/dist-packages\n",
            "Requires: typing-extensions\n",
            "Required-by: torchvision, torchtext, torchaudio, fastai\n",
            "Looking in links: https://download.openmmlab.com/mmcv/dist/cu113/torch1.11.0/index.html\n",
            "Collecting mmcv-full\n",
            "  Downloading https://download.openmmlab.com/mmcv/dist/cu113/torch1.11.0/mmcv_full-1.5.1-cp37-cp37m-manylinux1_x86_64.whl (37.7 MB)\n",
            "\u001b[K     |████████████████████████████████| 37.7 MB 8.0 MB/s \n",
            "\u001b[?25hRequirement already satisfied: opencv-python>=3 in /usr/local/lib/python3.7/dist-packages (from mmcv-full) (4.1.2.30)\n",
            "Requirement already satisfied: pyyaml in /usr/local/lib/python3.7/dist-packages (from mmcv-full) (3.13)\n",
            "Requirement already satisfied: Pillow in /usr/local/lib/python3.7/dist-packages (from mmcv-full) (7.1.2)\n",
            "Requirement already satisfied: packaging in /usr/local/lib/python3.7/dist-packages (from mmcv-full) (21.3)\n",
            "Requirement already satisfied: numpy in /usr/local/lib/python3.7/dist-packages (from mmcv-full) (1.21.6)\n",
            "Collecting yapf\n",
            "  Downloading yapf-0.32.0-py2.py3-none-any.whl (190 kB)\n",
            "\u001b[K     |████████████████████████████████| 190 kB 5.3 MB/s \n",
            "\u001b[?25hCollecting addict\n",
            "  Downloading addict-2.4.0-py3-none-any.whl (3.8 kB)\n",
            "Requirement already satisfied: pyparsing!=3.0.5,>=2.0.2 in /usr/local/lib/python3.7/dist-packages (from packaging->mmcv-full) (3.0.9)\n",
            "Installing collected packages: yapf, addict, mmcv-full\n",
            "Successfully installed addict-2.4.0 mmcv-full-1.5.1 yapf-0.32.0\n",
            "Collecting mmdet\n",
            "  Downloading mmdet-2.24.1-py3-none-any.whl (1.4 MB)\n",
            "\u001b[K     |████████████████████████████████| 1.4 MB 5.2 MB/s \n",
            "\u001b[?25hCollecting terminaltables\n",
            "  Downloading terminaltables-3.1.10-py2.py3-none-any.whl (15 kB)\n",
            "Requirement already satisfied: numpy in /usr/local/lib/python3.7/dist-packages (from mmdet) (1.21.6)\n",
            "Requirement already satisfied: pycocotools in /usr/local/lib/python3.7/dist-packages (from mmdet) (2.0.4)\n",
            "Requirement already satisfied: matplotlib in /usr/local/lib/python3.7/dist-packages (from mmdet) (3.2.2)\n",
            "Requirement already satisfied: six in /usr/local/lib/python3.7/dist-packages (from mmdet) (1.15.0)\n",
            "Requirement already satisfied: kiwisolver>=1.0.1 in /usr/local/lib/python3.7/dist-packages (from matplotlib->mmdet) (1.4.2)\n",
            "Requirement already satisfied: cycler>=0.10 in /usr/local/lib/python3.7/dist-packages (from matplotlib->mmdet) (0.11.0)\n",
            "Requirement already satisfied: pyparsing!=2.0.4,!=2.1.2,!=2.1.6,>=2.0.1 in /usr/local/lib/python3.7/dist-packages (from matplotlib->mmdet) (3.0.9)\n",
            "Requirement already satisfied: python-dateutil>=2.1 in /usr/local/lib/python3.7/dist-packages (from matplotlib->mmdet) (2.8.2)\n",
            "Requirement already satisfied: typing-extensions in /usr/local/lib/python3.7/dist-packages (from kiwisolver>=1.0.1->matplotlib->mmdet) (4.2.0)\n",
            "Installing collected packages: terminaltables, mmdet\n",
            "Successfully installed mmdet-2.24.1 terminaltables-3.1.10\n",
            "Cloning into 'mmocr'...\n",
            "remote: Enumerating objects: 6551, done.\u001b[K\n",
            "remote: Counting objects: 100% (484/484), done.\u001b[K\n",
            "remote: Compressing objects: 100% (353/353), done.\u001b[K\n",
            "remote: Total 6551 (delta 234), reused 268 (delta 124), pack-reused 6067\u001b[K\n",
            "Receiving objects: 100% (6551/6551), 13.18 MiB | 26.66 MiB/s, done.\n",
            "Resolving deltas: 100% (4012/4012), done.\n",
            "/mmocr\n",
            "Requirement already satisfied: numpy in /usr/local/lib/python3.7/dist-packages (from -r requirements/build.txt (line 2)) (1.21.6)\n",
            "Collecting pyclipper\n",
            "  Downloading pyclipper-1.3.0.post2-cp37-cp37m-manylinux_2_5_x86_64.manylinux1_x86_64.whl (603 kB)\n",
            "\u001b[K     |████████████████████████████████| 603 kB 5.3 MB/s \n",
            "\u001b[?25hRequirement already satisfied: torch>=1.1 in /usr/local/lib/python3.7/dist-packages (from -r requirements/build.txt (line 4)) (1.11.0+cu113)\n",
            "Requirement already satisfied: imgaug in /usr/local/lib/python3.7/dist-packages (from -r requirements/runtime.txt (line 1)) (0.2.9)\n",
            "Collecting lanms-neo==1.0.2\n",
            "  Downloading lanms_neo-1.0.2.tar.gz (39 kB)\n",
            "  Installing build dependencies ... \u001b[?25l\u001b[?25hdone\n",
            "  Getting requirements to build wheel ... \u001b[?25l\u001b[?25hdone\n",
            "    Preparing wheel metadata ... \u001b[?25l\u001b[?25hdone\n",
            "Requirement already satisfied: lmdb in /usr/local/lib/python3.7/dist-packages (from -r requirements/runtime.txt (line 3)) (0.99)\n",
            "Requirement already satisfied: matplotlib in /usr/local/lib/python3.7/dist-packages (from -r requirements/runtime.txt (line 4)) (3.2.2)\n",
            "Requirement already satisfied: opencv-python<=4.5.4.60 in /usr/local/lib/python3.7/dist-packages (from -r requirements/runtime.txt (line 6)) (4.1.2.30)\n",
            "Requirement already satisfied: pycocotools in /usr/local/lib/python3.7/dist-packages (from -r requirements/runtime.txt (line 8)) (2.0.4)\n",
            "Collecting rapidfuzz\n",
            "  Downloading rapidfuzz-2.0.11-cp37-cp37m-manylinux_2_17_x86_64.manylinux2014_x86_64.whl (1.8 MB)\n",
            "\u001b[K     |████████████████████████████████| 1.8 MB 44.7 MB/s \n",
            "\u001b[?25hRequirement already satisfied: scikit-image in /usr/local/lib/python3.7/dist-packages (from -r requirements/runtime.txt (line 10)) (0.18.3)\n",
            "Collecting asynctest\n",
            "  Downloading asynctest-0.13.0-py3-none-any.whl (26 kB)\n",
            "Collecting codecov\n",
            "  Downloading codecov-2.1.12-py2.py3-none-any.whl (16 kB)\n",
            "Collecting flake8\n",
            "  Downloading flake8-4.0.1-py2.py3-none-any.whl (64 kB)\n",
            "\u001b[K     |████████████████████████████████| 64 kB 2.5 MB/s \n",
            "\u001b[?25hCollecting isort\n",
            "  Downloading isort-5.10.1-py3-none-any.whl (103 kB)\n",
            "\u001b[K     |████████████████████████████████| 103 kB 49.4 MB/s \n",
            "\u001b[?25hCollecting kwarray\n",
            "  Downloading kwarray-0.6.0-py3-none-any.whl (78 kB)\n",
            "\u001b[K     |████████████████████████████████| 78 kB 7.0 MB/s \n",
            "\u001b[?25hRequirement already satisfied: pytest in /usr/local/lib/python3.7/dist-packages (from -r requirements/tests.txt (line 7)) (3.6.4)\n",
            "Collecting pytest-cov\n",
            "  Downloading pytest_cov-3.0.0-py3-none-any.whl (20 kB)\n",
            "Collecting pytest-runner\n",
            "  Downloading pytest_runner-6.0.0-py3-none-any.whl (7.2 kB)\n",
            "Collecting ubelt\n",
            "  Downloading ubelt-1.0.1-py3-none-any.whl (151 kB)\n",
            "\u001b[K     |████████████████████████████████| 151 kB 53.9 MB/s \n",
            "\u001b[?25hCollecting xdoctest>=0.10.0\n",
            "  Downloading xdoctest-1.0.0-py3-none-any.whl (117 kB)\n",
            "\u001b[K     |████████████████████████████████| 117 kB 56.4 MB/s \n",
            "\u001b[?25hRequirement already satisfied: yapf in /usr/local/lib/python3.7/dist-packages (from -r requirements/tests.txt (line 12)) (0.32.0)\n",
            "Requirement already satisfied: typing-extensions in /usr/local/lib/python3.7/dist-packages (from torch>=1.1->-r requirements/build.txt (line 4)) (4.2.0)\n",
            "Requirement already satisfied: six in /usr/local/lib/python3.7/dist-packages (from xdoctest>=0.10.0->-r requirements/tests.txt (line 11)) (1.15.0)\n",
            "Requirement already satisfied: Pillow in /usr/local/lib/python3.7/dist-packages (from imgaug->-r requirements/runtime.txt (line 1)) (7.1.2)\n",
            "Requirement already satisfied: Shapely in /usr/local/lib/python3.7/dist-packages (from imgaug->-r requirements/runtime.txt (line 1)) (1.8.2)\n",
            "Requirement already satisfied: imageio in /usr/local/lib/python3.7/dist-packages (from imgaug->-r requirements/runtime.txt (line 1)) (2.4.1)\n",
            "Requirement already satisfied: scipy in /usr/local/lib/python3.7/dist-packages (from imgaug->-r requirements/runtime.txt (line 1)) (1.4.1)\n",
            "Requirement already satisfied: tifffile>=2019.7.26 in /usr/local/lib/python3.7/dist-packages (from scikit-image->-r requirements/runtime.txt (line 10)) (2021.11.2)\n",
            "Requirement already satisfied: PyWavelets>=1.1.1 in /usr/local/lib/python3.7/dist-packages (from scikit-image->-r requirements/runtime.txt (line 10)) (1.3.0)\n",
            "Requirement already satisfied: networkx>=2.0 in /usr/local/lib/python3.7/dist-packages (from scikit-image->-r requirements/runtime.txt (line 10)) (2.6.3)\n",
            "Requirement already satisfied: cycler>=0.10 in /usr/local/lib/python3.7/dist-packages (from matplotlib->-r requirements/runtime.txt (line 4)) (0.11.0)\n",
            "Requirement already satisfied: pyparsing!=2.0.4,!=2.1.2,!=2.1.6,>=2.0.1 in /usr/local/lib/python3.7/dist-packages (from matplotlib->-r requirements/runtime.txt (line 4)) (3.0.9)\n",
            "Requirement already satisfied: kiwisolver>=1.0.1 in /usr/local/lib/python3.7/dist-packages (from matplotlib->-r requirements/runtime.txt (line 4)) (1.4.2)\n",
            "Requirement already satisfied: python-dateutil>=2.1 in /usr/local/lib/python3.7/dist-packages (from matplotlib->-r requirements/runtime.txt (line 4)) (2.8.2)\n",
            "Collecting jarowinkler<1.1.0,>=1.0.2\n",
            "  Downloading jarowinkler-1.0.2-cp37-cp37m-manylinux_2_17_x86_64.manylinux2014_x86_64.whl (103 kB)\n",
            "\u001b[K     |████████████████████████████████| 103 kB 53.1 MB/s \n",
            "\u001b[?25hRequirement already satisfied: requests>=2.7.9 in /usr/local/lib/python3.7/dist-packages (from codecov->-r requirements/tests.txt (line 2)) (2.23.0)\n",
            "Requirement already satisfied: coverage in /usr/local/lib/python3.7/dist-packages (from codecov->-r requirements/tests.txt (line 2)) (3.7.1)\n",
            "Requirement already satisfied: chardet<4,>=3.0.2 in /usr/local/lib/python3.7/dist-packages (from requests>=2.7.9->codecov->-r requirements/tests.txt (line 2)) (3.0.4)\n",
            "Requirement already satisfied: certifi>=2017.4.17 in /usr/local/lib/python3.7/dist-packages (from requests>=2.7.9->codecov->-r requirements/tests.txt (line 2)) (2021.10.8)\n",
            "Requirement already satisfied: idna<3,>=2.5 in /usr/local/lib/python3.7/dist-packages (from requests>=2.7.9->codecov->-r requirements/tests.txt (line 2)) (2.10)\n",
            "Requirement already satisfied: urllib3!=1.25.0,!=1.25.1,<1.26,>=1.21.1 in /usr/local/lib/python3.7/dist-packages (from requests>=2.7.9->codecov->-r requirements/tests.txt (line 2)) (1.24.3)\n",
            "Collecting mccabe<0.7.0,>=0.6.0\n",
            "  Downloading mccabe-0.6.1-py2.py3-none-any.whl (8.6 kB)\n",
            "Collecting pyflakes<2.5.0,>=2.4.0\n",
            "  Downloading pyflakes-2.4.0-py2.py3-none-any.whl (69 kB)\n",
            "\u001b[K     |████████████████████████████████| 69 kB 6.7 MB/s \n",
            "\u001b[?25hCollecting importlib-metadata<4.3\n",
            "  Downloading importlib_metadata-4.2.0-py3-none-any.whl (16 kB)\n",
            "Collecting pycodestyle<2.9.0,>=2.8.0\n",
            "  Downloading pycodestyle-2.8.0-py2.py3-none-any.whl (42 kB)\n",
            "\u001b[K     |████████████████████████████████| 42 kB 978 kB/s \n",
            "\u001b[?25hRequirement already satisfied: zipp>=0.5 in /usr/local/lib/python3.7/dist-packages (from importlib-metadata<4.3->flake8->-r requirements/tests.txt (line 3)) (3.8.0)\n",
            "Requirement already satisfied: setuptools in /usr/local/lib/python3.7/dist-packages (from pytest->-r requirements/tests.txt (line 7)) (57.4.0)\n",
            "Requirement already satisfied: attrs>=17.4.0 in /usr/local/lib/python3.7/dist-packages (from pytest->-r requirements/tests.txt (line 7)) (21.4.0)\n",
            "Requirement already satisfied: py>=1.5.0 in /usr/local/lib/python3.7/dist-packages (from pytest->-r requirements/tests.txt (line 7)) (1.11.0)\n",
            "Requirement already satisfied: atomicwrites>=1.0 in /usr/local/lib/python3.7/dist-packages (from pytest->-r requirements/tests.txt (line 7)) (1.4.0)\n",
            "Requirement already satisfied: pluggy<0.8,>=0.5 in /usr/local/lib/python3.7/dist-packages (from pytest->-r requirements/tests.txt (line 7)) (0.7.1)\n",
            "Requirement already satisfied: more-itertools>=4.0.0 in /usr/local/lib/python3.7/dist-packages (from pytest->-r requirements/tests.txt (line 7)) (8.13.0)\n",
            "Collecting coverage[toml]>=5.2.1\n",
            "  Downloading coverage-6.3.3-cp37-cp37m-manylinux_2_5_x86_64.manylinux1_x86_64.manylinux_2_17_x86_64.manylinux2014_x86_64.whl (207 kB)\n",
            "\u001b[K     |████████████████████████████████| 207 kB 50.3 MB/s \n",
            "\u001b[?25hCollecting pytest\n",
            "  Downloading pytest-7.1.2-py3-none-any.whl (297 kB)\n",
            "\u001b[K     |████████████████████████████████| 297 kB 55.2 MB/s \n",
            "\u001b[?25hRequirement already satisfied: iniconfig in /usr/local/lib/python3.7/dist-packages (from pytest->-r requirements/tests.txt (line 7)) (1.1.1)\n",
            "Requirement already satisfied: packaging in /usr/local/lib/python3.7/dist-packages (from pytest->-r requirements/tests.txt (line 7)) (21.3)\n",
            "Requirement already satisfied: tomli>=1.0.0 in /usr/local/lib/python3.7/dist-packages (from pytest->-r requirements/tests.txt (line 7)) (2.0.1)\n",
            "  Downloading pytest-7.1.1-py3-none-any.whl (297 kB)\n",
            "\u001b[K     |████████████████████████████████| 297 kB 50.4 MB/s \n",
            "\u001b[?25h  Downloading pytest-7.1.0-py3-none-any.whl (297 kB)\n",
            "\u001b[K     |████████████████████████████████| 297 kB 53.3 MB/s \n",
            "\u001b[?25h  Downloading pytest-7.0.1-py3-none-any.whl (296 kB)\n",
            "\u001b[K     |████████████████████████████████| 296 kB 39.3 MB/s \n",
            "\u001b[?25h  Downloading pytest-7.0.0-py3-none-any.whl (296 kB)\n",
            "\u001b[K     |████████████████████████████████| 296 kB 53.7 MB/s \n",
            "\u001b[?25h  Downloading pytest-6.2.5-py3-none-any.whl (280 kB)\n",
            "\u001b[K     |████████████████████████████████| 280 kB 47.7 MB/s \n",
            "\u001b[?25h  Downloading pytest-6.2.4-py3-none-any.whl (280 kB)\n",
            "\u001b[K     |████████████████████████████████| 280 kB 54.3 MB/s \n",
            "\u001b[?25h  Downloading pytest-6.2.3-py3-none-any.whl (280 kB)\n",
            "\u001b[K     |████████████████████████████████| 280 kB 49.6 MB/s \n",
            "\u001b[?25h  Downloading pytest-6.2.2-py3-none-any.whl (280 kB)\n",
            "\u001b[K     |████████████████████████████████| 280 kB 48.0 MB/s \n",
            "\u001b[?25h  Downloading pytest-6.2.1-py3-none-any.whl (279 kB)\n",
            "\u001b[K     |████████████████████████████████| 279 kB 53.3 MB/s \n",
            "\u001b[?25h  Downloading pytest-6.2.0-py3-none-any.whl (279 kB)\n",
            "\u001b[K     |████████████████████████████████| 279 kB 50.5 MB/s \n",
            "\u001b[?25h  Downloading pytest-6.1.2-py3-none-any.whl (272 kB)\n",
            "\u001b[K     |████████████████████████████████| 272 kB 52.9 MB/s \n",
            "\u001b[?25h  Downloading pytest-6.1.1-py3-none-any.whl (272 kB)\n",
            "\u001b[K     |████████████████████████████████| 272 kB 52.4 MB/s \n",
            "\u001b[?25h  Downloading pytest-6.1.0-py3-none-any.whl (272 kB)\n",
            "\u001b[K     |████████████████████████████████| 272 kB 54.0 MB/s \n",
            "\u001b[?25h  Downloading pytest-6.0.2-py3-none-any.whl (270 kB)\n",
            "\u001b[K     |████████████████████████████████| 270 kB 44.6 MB/s \n",
            "\u001b[?25h  Downloading pytest-6.0.1-py3-none-any.whl (270 kB)\n",
            "\u001b[K     |████████████████████████████████| 270 kB 57.5 MB/s \n",
            "\u001b[?25h  Downloading pytest-6.0.0-py3-none-any.whl (270 kB)\n",
            "\u001b[K     |████████████████████████████████| 270 kB 52.8 MB/s \n",
            "\u001b[?25h  Downloading pytest-5.4.3-py3-none-any.whl (248 kB)\n",
            "\u001b[K     |████████████████████████████████| 248 kB 53.2 MB/s \n",
            "\u001b[?25hRequirement already satisfied: wcwidth in /usr/local/lib/python3.7/dist-packages (from pytest->-r requirements/tests.txt (line 7)) (0.2.5)\n",
            "  Downloading pytest-5.4.2-py3-none-any.whl (247 kB)\n",
            "\u001b[K     |████████████████████████████████| 247 kB 51.9 MB/s \n",
            "\u001b[?25h  Downloading pytest-5.4.1-py3-none-any.whl (246 kB)\n",
            "\u001b[K     |████████████████████████████████| 246 kB 45.1 MB/s \n",
            "\u001b[?25h  Downloading pytest-5.4.0-py3-none-any.whl (247 kB)\n",
            "\u001b[K     |████████████████████████████████| 247 kB 48.9 MB/s \n",
            "\u001b[?25h  Downloading pytest-5.3.5-py3-none-any.whl (235 kB)\n",
            "\u001b[K     |████████████████████████████████| 235 kB 53.2 MB/s \n",
            "\u001b[?25h  Downloading pytest-5.3.4-py3-none-any.whl (235 kB)\n",
            "\u001b[K     |████████████████████████████████| 235 kB 51.7 MB/s \n",
            "\u001b[?25h  Downloading pytest-5.3.3-py3-none-any.whl (235 kB)\n",
            "\u001b[K     |████████████████████████████████| 235 kB 55.1 MB/s \n",
            "\u001b[?25h  Downloading pytest-5.3.2-py3-none-any.whl (234 kB)\n",
            "\u001b[K     |████████████████████████████████| 234 kB 43.7 MB/s \n",
            "\u001b[?25h  Downloading pytest-5.3.1-py3-none-any.whl (233 kB)\n",
            "\u001b[K     |████████████████████████████████| 233 kB 51.1 MB/s \n",
            "\u001b[?25h  Downloading pytest-5.3.0-py3-none-any.whl (233 kB)\n",
            "\u001b[K     |████████████████████████████████| 233 kB 53.9 MB/s \n",
            "\u001b[?25h  Downloading pytest-5.2.4-py3-none-any.whl (227 kB)\n",
            "\u001b[K     |████████████████████████████████| 227 kB 52.5 MB/s \n",
            "\u001b[?25h  Downloading pytest-5.2.3-py3-none-any.whl (227 kB)\n",
            "\u001b[K     |████████████████████████████████| 227 kB 50.0 MB/s \n",
            "\u001b[?25h  Downloading pytest-5.2.2-py3-none-any.whl (227 kB)\n",
            "\u001b[K     |████████████████████████████████| 227 kB 51.0 MB/s \n",
            "\u001b[?25h  Downloading pytest-5.2.1-py3-none-any.whl (226 kB)\n",
            "\u001b[K     |████████████████████████████████| 226 kB 49.8 MB/s \n",
            "\u001b[?25h  Downloading pytest-5.2.0-py3-none-any.whl (226 kB)\n",
            "\u001b[K     |████████████████████████████████| 226 kB 1.4 MB/s \n",
            "\u001b[?25h  Downloading pytest-5.1.3-py3-none-any.whl (224 kB)\n",
            "\u001b[K     |████████████████████████████████| 224 kB 44.1 MB/s \n",
            "\u001b[?25h  Downloading pytest-5.1.2-py3-none-any.whl (224 kB)\n",
            "\u001b[K     |████████████████████████████████| 224 kB 50.2 MB/s \n",
            "\u001b[?25h  Downloading pytest-5.1.1-py3-none-any.whl (223 kB)\n",
            "\u001b[K     |████████████████████████████████| 223 kB 54.2 MB/s \n",
            "\u001b[?25h  Downloading pytest-5.1.0-py3-none-any.whl (223 kB)\n",
            "\u001b[K     |████████████████████████████████| 223 kB 53.1 MB/s \n",
            "\u001b[?25h  Downloading pytest-5.0.1-py3-none-any.whl (221 kB)\n",
            "\u001b[K     |████████████████████████████████| 221 kB 53.1 MB/s \n",
            "\u001b[?25h  Downloading pytest-5.0.0-py3-none-any.whl (221 kB)\n",
            "\u001b[K     |████████████████████████████████| 221 kB 53.0 MB/s \n",
            "\u001b[?25h  Downloading pytest-4.6.11-py2.py3-none-any.whl (231 kB)\n",
            "\u001b[K     |████████████████████████████████| 231 kB 27.2 MB/s \n",
            "\u001b[?25h  Downloading pytest-4.6.10-py2.py3-none-any.whl (231 kB)\n",
            "\u001b[K     |████████████████████████████████| 231 kB 52.7 MB/s \n",
            "\u001b[?25h  Downloading pytest-4.6.9-py2.py3-none-any.whl (231 kB)\n",
            "\u001b[K     |████████████████████████████████| 231 kB 47.5 MB/s \n",
            "\u001b[?25h  Downloading pytest-4.6.8-py2.py3-none-any.whl (230 kB)\n",
            "\u001b[K     |████████████████████████████████| 230 kB 53.9 MB/s \n",
            "\u001b[?25h  Downloading pytest-4.6.7-py2.py3-none-any.whl (230 kB)\n",
            "\u001b[K     |████████████████████████████████| 230 kB 49.2 MB/s \n",
            "\u001b[?25h  Downloading pytest-4.6.6-py2.py3-none-any.whl (230 kB)\n",
            "\u001b[K     |████████████████████████████████| 230 kB 50.0 MB/s \n",
            "\u001b[?25h  Downloading pytest-4.6.5-py2.py3-none-any.whl (230 kB)\n",
            "\u001b[K     |████████████████████████████████| 230 kB 51.6 MB/s \n",
            "\u001b[?25h  Downloading pytest-4.6.4-py2.py3-none-any.whl (229 kB)\n",
            "\u001b[K     |████████████████████████████████| 229 kB 55.3 MB/s \n",
            "\u001b[?25h  Downloading pytest-4.6.3-py2.py3-none-any.whl (229 kB)\n",
            "\u001b[K     |████████████████████████████████| 229 kB 56.4 MB/s \n",
            "\u001b[?25h  Downloading pytest-4.6.2-py2.py3-none-any.whl (229 kB)\n",
            "\u001b[K     |████████████████████████████████| 229 kB 49.1 MB/s \n",
            "\u001b[?25h  Downloading pytest-4.6.1-py2.py3-none-any.whl (229 kB)\n",
            "\u001b[K     |████████████████████████████████| 229 kB 55.4 MB/s \n",
            "\u001b[?25h  Downloading pytest-4.6.0-py2.py3-none-any.whl (229 kB)\n",
            "\u001b[K     |████████████████████████████████| 229 kB 54.4 MB/s \n",
            "\u001b[?25hINFO: pip is looking at multiple versions of pytest-cov to determine which version is compatible with other requirements. This could take a while.\n",
            "Collecting pytest-cov\n",
            "  Downloading pytest_cov-2.12.1-py2.py3-none-any.whl (20 kB)\n",
            "Collecting toml\n",
            "  Downloading toml-0.10.2-py2.py3-none-any.whl (16 kB)\n",
            "Collecting pytest-cov\n",
            "  Downloading pytest_cov-2.12.0-py2.py3-none-any.whl (20 kB)\n",
            "  Downloading pytest_cov-2.11.1-py2.py3-none-any.whl (20 kB)\n",
            "  Downloading pytest_cov-2.11.0-py2.py3-none-any.whl (20 kB)\n",
            "  Downloading pytest_cov-2.10.1-py2.py3-none-any.whl (19 kB)\n",
            "  Downloading pytest_cov-2.10.0-py2.py3-none-any.whl (19 kB)\n",
            "  Downloading pytest_cov-2.9.0-py2.py3-none-any.whl (19 kB)\n",
            "Collecting ordered-set\n",
            "  Downloading ordered_set-4.1.0-py3-none-any.whl (7.6 kB)\n",
            "Building wheels for collected packages: lanms-neo\n",
            "  Building wheel for lanms-neo (PEP 517) ... \u001b[?25l\u001b[?25hdone\n",
            "  Created wheel for lanms-neo: filename=lanms_neo-1.0.2-cp37-cp37m-linux_x86_64.whl size=107341 sha256=ec676f7d1115322c302664175e1712315e778d5e65afa76414360bc7fc2d239c\n",
            "  Stored in directory: /root/.cache/pip/wheels/09/7b/5e/1e4d24a8f94c1116afa284ce2968ef2f72b986a5457164b340\n",
            "Successfully built lanms-neo\n",
            "Installing collected packages: ordered-set, ubelt, pyflakes, pycodestyle, mccabe, jarowinkler, importlib-metadata, coverage, xdoctest, rapidfuzz, pytest-runner, pytest-cov, pyclipper, lanms-neo, kwarray, isort, flake8, codecov, asynctest\n",
            "  Attempting uninstall: importlib-metadata\n",
            "    Found existing installation: importlib-metadata 4.11.3\n",
            "    Uninstalling importlib-metadata-4.11.3:\n",
            "      Successfully uninstalled importlib-metadata-4.11.3\n",
            "  Attempting uninstall: coverage\n",
            "    Found existing installation: coverage 3.7.1\n",
            "    Uninstalling coverage-3.7.1:\n",
            "      Successfully uninstalled coverage-3.7.1\n",
            "\u001b[31mERROR: pip's dependency resolver does not currently take into account all the packages that are installed. This behaviour is the source of the following dependency conflicts.\n",
            "markdown 3.3.7 requires importlib-metadata>=4.4; python_version < \"3.10\", but you have importlib-metadata 4.2.0 which is incompatible.\n",
            "datascience 0.10.6 requires coverage==3.7.1, but you have coverage 6.3.3 which is incompatible.\n",
            "datascience 0.10.6 requires folium==0.2.1, but you have folium 0.8.3 which is incompatible.\n",
            "coveralls 0.5 requires coverage<3.999,>=3.6, but you have coverage 6.3.3 which is incompatible.\u001b[0m\n",
            "Successfully installed asynctest-0.13.0 codecov-2.1.12 coverage-6.3.3 flake8-4.0.1 importlib-metadata-4.2.0 isort-5.10.1 jarowinkler-1.0.2 kwarray-0.6.0 lanms-neo-1.0.2 mccabe-0.6.1 ordered-set-4.1.0 pyclipper-1.3.0.post2 pycodestyle-2.8.0 pyflakes-2.4.0 pytest-cov-2.9.0 pytest-runner-6.0.0 rapidfuzz-2.0.11 ubelt-1.0.1 xdoctest-1.0.0\n",
            "Using pip 21.1.3 from /usr/local/lib/python3.7/dist-packages/pip (python 3.7)\n",
            "Value for scheme.platlib does not match. Please report this to <https://github.com/pypa/pip/issues/9617>\n",
            "distutils: /usr/local/lib/python3.7/dist-packages\n",
            "sysconfig: /usr/lib/python3.7/site-packages\n",
            "Value for scheme.purelib does not match. Please report this to <https://github.com/pypa/pip/issues/9617>\n",
            "distutils: /usr/local/lib/python3.7/dist-packages\n",
            "sysconfig: /usr/lib/python3.7/site-packages\n",
            "Value for scheme.headers does not match. Please report this to <https://github.com/pypa/pip/issues/9617>\n",
            "distutils: /usr/local/include/python3.7/UNKNOWN\n",
            "sysconfig: /usr/include/python3.7m/UNKNOWN\n",
            "Value for scheme.scripts does not match. Please report this to <https://github.com/pypa/pip/issues/9617>\n",
            "distutils: /usr/local/bin\n",
            "sysconfig: /usr/bin\n",
            "Value for scheme.data does not match. Please report this to <https://github.com/pypa/pip/issues/9617>\n",
            "distutils: /usr/local\n",
            "sysconfig: /usr\n",
            "Additional context:\n",
            "user = False\n",
            "home = None\n",
            "root = None\n",
            "prefix = None\n",
            "Non-user install because site-packages writeable\n",
            "Created temporary directory: /tmp/pip-ephem-wheel-cache-wl4t6fha\n",
            "Created temporary directory: /tmp/pip-req-tracker-8q3ss2lw\n",
            "Initialized build tracking at /tmp/pip-req-tracker-8q3ss2lw\n",
            "Created build tracker: /tmp/pip-req-tracker-8q3ss2lw\n",
            "Entered build tracker: /tmp/pip-req-tracker-8q3ss2lw\n",
            "Created temporary directory: /tmp/pip-install-tec5k7__\n",
            "Obtaining file:///mmocr\n",
            "  Added file:///mmocr to build tracker '/tmp/pip-req-tracker-8q3ss2lw'\n",
            "    Running setup.py (path:/mmocr/setup.py) egg_info for package from file:///mmocr\n",
            "    Created temporary directory: /tmp/pip-pip-egg-info-0x8l6c_b\n",
            "    Running command python setup.py egg_info\n",
            "    running egg_info\n",
            "    creating /tmp/pip-pip-egg-info-0x8l6c_b/mmocr.egg-info\n",
            "    writing /tmp/pip-pip-egg-info-0x8l6c_b/mmocr.egg-info/PKG-INFO\n",
            "    writing dependency_links to /tmp/pip-pip-egg-info-0x8l6c_b/mmocr.egg-info/dependency_links.txt\n",
            "    writing requirements to /tmp/pip-pip-egg-info-0x8l6c_b/mmocr.egg-info/requires.txt\n",
            "    writing top-level names to /tmp/pip-pip-egg-info-0x8l6c_b/mmocr.egg-info/top_level.txt\n",
            "    writing manifest file '/tmp/pip-pip-egg-info-0x8l6c_b/mmocr.egg-info/SOURCES.txt'\n",
            "    reading manifest template 'MANIFEST.in'\n",
            "    warning: no files found matching 'mmocr/.mim/model-index.yml'\n",
            "    warning: no files found matching '*.py' under directory 'mmocr/.mim/configs'\n",
            "    warning: no files found matching '*.yml' under directory 'mmocr/.mim/configs'\n",
            "    warning: no files found matching '*.sh' under directory 'mmocr/.mim/tools'\n",
            "    warning: no files found matching '*.py' under directory 'mmocr/.mim/tools'\n",
            "    adding license file 'LICENSE'\n",
            "    writing manifest file '/tmp/pip-pip-egg-info-0x8l6c_b/mmocr.egg-info/SOURCES.txt'\n",
            "  Source in /mmocr has version 0.6.0, which satisfies requirement mmocr==0.6.0 from file:///mmocr\n",
            "  Removed mmocr==0.6.0 from file:///mmocr from build tracker '/tmp/pip-req-tracker-8q3ss2lw'\n",
            "Requirement already satisfied: imgaug in /usr/local/lib/python3.7/dist-packages (from mmocr==0.6.0) (0.2.9)\n",
            "Requirement already satisfied: lanms-neo==1.0.2 in /usr/local/lib/python3.7/dist-packages (from mmocr==0.6.0) (1.0.2)\n",
            "Requirement already satisfied: lmdb in /usr/local/lib/python3.7/dist-packages (from mmocr==0.6.0) (0.99)\n",
            "Requirement already satisfied: matplotlib in /usr/local/lib/python3.7/dist-packages (from mmocr==0.6.0) (3.2.2)\n",
            "Requirement already satisfied: numpy in /usr/local/lib/python3.7/dist-packages (from mmocr==0.6.0) (1.21.6)\n",
            "Requirement already satisfied: opencv-python<=4.5.4.60 in /usr/local/lib/python3.7/dist-packages (from mmocr==0.6.0) (4.1.2.30)\n",
            "Requirement already satisfied: pyclipper in /usr/local/lib/python3.7/dist-packages (from mmocr==0.6.0) (1.3.0.post2)\n",
            "Requirement already satisfied: pycocotools in /usr/local/lib/python3.7/dist-packages (from mmocr==0.6.0) (2.0.4)\n",
            "Requirement already satisfied: rapidfuzz in /usr/local/lib/python3.7/dist-packages (from mmocr==0.6.0) (2.0.11)\n",
            "Requirement already satisfied: scikit-image in /usr/local/lib/python3.7/dist-packages (from mmocr==0.6.0) (0.18.3)\n",
            "Requirement already satisfied: imageio in /usr/local/lib/python3.7/dist-packages (from imgaug->mmocr==0.6.0) (2.4.1)\n",
            "Requirement already satisfied: Pillow in /usr/local/lib/python3.7/dist-packages (from imgaug->mmocr==0.6.0) (7.1.2)\n",
            "Requirement already satisfied: Shapely in /usr/local/lib/python3.7/dist-packages (from imgaug->mmocr==0.6.0) (1.8.2)\n",
            "Requirement already satisfied: scipy in /usr/local/lib/python3.7/dist-packages (from imgaug->mmocr==0.6.0) (1.4.1)\n",
            "Requirement already satisfied: six in /usr/local/lib/python3.7/dist-packages (from imgaug->mmocr==0.6.0) (1.15.0)\n",
            "Requirement already satisfied: tifffile>=2019.7.26 in /usr/local/lib/python3.7/dist-packages (from scikit-image->mmocr==0.6.0) (2021.11.2)\n",
            "Requirement already satisfied: PyWavelets>=1.1.1 in /usr/local/lib/python3.7/dist-packages (from scikit-image->mmocr==0.6.0) (1.3.0)\n",
            "Requirement already satisfied: networkx>=2.0 in /usr/local/lib/python3.7/dist-packages (from scikit-image->mmocr==0.6.0) (2.6.3)\n",
            "Requirement already satisfied: pyparsing!=2.0.4,!=2.1.2,!=2.1.6,>=2.0.1 in /usr/local/lib/python3.7/dist-packages (from matplotlib->mmocr==0.6.0) (3.0.9)\n",
            "Requirement already satisfied: kiwisolver>=1.0.1 in /usr/local/lib/python3.7/dist-packages (from matplotlib->mmocr==0.6.0) (1.4.2)\n",
            "Requirement already satisfied: python-dateutil>=2.1 in /usr/local/lib/python3.7/dist-packages (from matplotlib->mmocr==0.6.0) (2.8.2)\n",
            "Requirement already satisfied: cycler>=0.10 in /usr/local/lib/python3.7/dist-packages (from matplotlib->mmocr==0.6.0) (0.11.0)\n",
            "Requirement already satisfied: typing-extensions in /usr/local/lib/python3.7/dist-packages (from kiwisolver>=1.0.1->matplotlib->mmocr==0.6.0) (4.2.0)\n",
            "Requirement already satisfied: jarowinkler<1.1.0,>=1.0.2 in /usr/local/lib/python3.7/dist-packages (from rapidfuzz->mmocr==0.6.0) (1.0.2)\n",
            "Created temporary directory: /tmp/pip-unpack-5dlb5ppp\n",
            "Installing collected packages: mmocr\n",
            "  Value for scheme.platlib does not match. Please report this to <https://github.com/pypa/pip/issues/9617>\n",
            "  distutils: /usr/local/lib/python3.7/dist-packages\n",
            "  sysconfig: /usr/lib/python3.7/site-packages\n",
            "  Value for scheme.purelib does not match. Please report this to <https://github.com/pypa/pip/issues/9617>\n",
            "  distutils: /usr/local/lib/python3.7/dist-packages\n",
            "  sysconfig: /usr/lib/python3.7/site-packages\n",
            "  Value for scheme.headers does not match. Please report this to <https://github.com/pypa/pip/issues/9617>\n",
            "  distutils: /usr/local/include/python3.7/mmocr\n",
            "  sysconfig: /usr/include/python3.7m/mmocr\n",
            "  Value for scheme.scripts does not match. Please report this to <https://github.com/pypa/pip/issues/9617>\n",
            "  distutils: /usr/local/bin\n",
            "  sysconfig: /usr/bin\n",
            "  Value for scheme.data does not match. Please report this to <https://github.com/pypa/pip/issues/9617>\n",
            "  distutils: /usr/local\n",
            "  sysconfig: /usr\n",
            "  Additional context:\n",
            "  user = False\n",
            "  home = None\n",
            "  root = None\n",
            "  prefix = None\n",
            "  Running setup.py develop for mmocr\n",
            "    Running command /usr/bin/python3 -c 'import io, os, sys, setuptools, tokenize; sys.argv[0] = '\"'\"'/mmocr/setup.py'\"'\"'; __file__='\"'\"'/mmocr/setup.py'\"'\"';f = getattr(tokenize, '\"'\"'open'\"'\"', open)(__file__) if os.path.exists(__file__) else io.StringIO('\"'\"'from setuptools import setup; setup()'\"'\"');code = f.read().replace('\"'\"'\\r\\n'\"'\"', '\"'\"'\\n'\"'\"');f.close();exec(compile(code, __file__, '\"'\"'exec'\"'\"'))' develop --no-deps\n",
            "    running develop\n",
            "    running egg_info\n",
            "    creating mmocr.egg-info\n",
            "    writing mmocr.egg-info/PKG-INFO\n",
            "    writing dependency_links to mmocr.egg-info/dependency_links.txt\n",
            "    writing requirements to mmocr.egg-info/requires.txt\n",
            "    writing top-level names to mmocr.egg-info/top_level.txt\n",
            "    writing manifest file 'mmocr.egg-info/SOURCES.txt'\n",
            "    reading manifest template 'MANIFEST.in'\n",
            "    adding license file 'LICENSE'\n",
            "    writing manifest file 'mmocr.egg-info/SOURCES.txt'\n",
            "    running build_ext\n",
            "    Creating /usr/local/lib/python3.7/dist-packages/mmocr.egg-link (link to .)\n",
            "    Adding mmocr 0.6.0 to easy-install.pth file\n",
            "\n",
            "    Installed /mmocr\n",
            "Value for scheme.platlib does not match. Please report this to <https://github.com/pypa/pip/issues/9617>\n",
            "distutils: /usr/local/lib/python3.7/dist-packages\n",
            "sysconfig: /usr/lib/python3.7/site-packages\n",
            "Value for scheme.purelib does not match. Please report this to <https://github.com/pypa/pip/issues/9617>\n",
            "distutils: /usr/local/lib/python3.7/dist-packages\n",
            "sysconfig: /usr/lib/python3.7/site-packages\n",
            "Value for scheme.headers does not match. Please report this to <https://github.com/pypa/pip/issues/9617>\n",
            "distutils: /usr/local/include/python3.7/UNKNOWN\n",
            "sysconfig: /usr/include/python3.7m/UNKNOWN\n",
            "Value for scheme.scripts does not match. Please report this to <https://github.com/pypa/pip/issues/9617>\n",
            "distutils: /usr/local/bin\n",
            "sysconfig: /usr/bin\n",
            "Value for scheme.data does not match. Please report this to <https://github.com/pypa/pip/issues/9617>\n",
            "distutils: /usr/local\n",
            "sysconfig: /usr\n",
            "Additional context:\n",
            "user = False\n",
            "home = None\n",
            "root = None\n",
            "prefix = None\n",
            "Successfully installed mmocr-0.6.0\n",
            "Removed build tracker: '/tmp/pip-req-tracker-8q3ss2lw'\n",
            "1.11.0+cu113 True\n",
            "2.24.1\n",
            "1.5.1\n",
            "11.3\n",
            "GCC 7.3\n",
            "0.6.0\n",
            "/mmocr\n",
            "CITATION.cff  docs\t   mmocr.egg-info   requirements      setup.py\n",
            "configs       LICENSE\t   model-index.yml  requirements.txt  tests\n",
            "demo\t      MANIFEST.in  README.md\t    resources\t      tools\n",
            "docker\t      mmocr\t   README_zh-CN.md  setup.cfg\n"
          ]
        }
      ],
      "source": [
        "%cd ..\n",
        "\n",
        "!pip show torch\n",
        "\n",
        "# Install mmcv-full thus we could use CUDA operators\n",
        "!pip install mmcv-full -f https://download.openmmlab.com/mmcv/dist/cu113/torch1.11.0/index.html\n",
        "\n",
        "# Install mmdetection\n",
        "!pip install mmdet\n",
        "\n",
        "# # Install mmocr\n",
        "!git clone https://github.com/open-mmlab/mmocr.git\n",
        "%cd mmocr\n",
        "!pip install -r requirements.txt\n",
        "!pip install -v -e .\n",
        "\n",
        "\n",
        "# Check Pytorch installation\n",
        "import torch, torchvision\n",
        "print(torch.__version__, torch.cuda.is_available())\n",
        "\n",
        "# Check MMDetection installation\n",
        "import mmdet\n",
        "print(mmdet.__version__)\n",
        "\n",
        "# Check mmcv installation\n",
        "import mmcv\n",
        "from mmcv.ops import get_compiling_cuda_version, get_compiler_version\n",
        "print(mmcv.__version__)\n",
        "print(get_compiling_cuda_version())\n",
        "print(get_compiler_version())\n",
        "\n",
        "# Check mmocr installation\n",
        "import mmocr\n",
        "print(mmocr.__version__)\n",
        "\n",
        "%cd /mmocr/\n",
        "!ls"
      ]
    },
    {
      "cell_type": "markdown",
      "source": [
        "Check Installed Dependencies Versions"
      ],
      "metadata": {
        "id": "h0sfdecQXNGD"
      }
    },
    {
      "cell_type": "code",
      "source": [
        "#import cv2\n",
        "\n",
        "#im = cv2.imread(\"/content/N0,AG,EX.jpg\")\n",
        "\n",
        "# To Grayscale\n",
        "#im = cv2.cvtColor(im, cv2.COLOR_BGR2GRAY)\n",
        "#cv2.imwrite(\"/content/N0,AG,EXG.jpg.jpg\", im)\n",
        "\n",
        "# To Black & White\n",
        "#im = cv2.threshold(im, 127, 255, cv2.THRESH_OTSU)[1]   #127\n",
        "#cv2.imwrite(\"/content/N0,AG,EXBW.jpg\", im)"
      ],
      "metadata": {
        "id": "gCQdOjqfXZk7"
      },
      "execution_count": null,
      "outputs": []
    },
    {
      "cell_type": "markdown",
      "source": [
        "Input and inferenicing "
      ],
      "metadata": {
        "id": "LSTxVdsJa8n5"
      }
    },
    {
      "cell_type": "code",
      "source": [
        "from mmocr.utils.ocr import MMOCR\n",
        "mmocr = MMOCR(det='TextSnake', recog='SAR')\n",
        "# mmocr = MMOCR(det='TextSnake', recog=None)"
      ],
      "metadata": {
        "id": "87YmNeX8eXgQ",
        "colab": {
          "base_uri": "https://localhost:8080/"
        },
        "outputId": "890b65fd-0fcd-4a65-cfa3-15f3a1c8724d"
      },
      "execution_count": 8,
      "outputs": [
        {
          "output_type": "stream",
          "name": "stdout",
          "text": [
            "load checkpoint from http path: https://download.openmmlab.com/mmocr/textdet/textsnake/textsnake_r50_fpn_unet_1200e_ctw1500-27f65b64.pth\n",
            "load checkpoint from http path: https://download.openmmlab.com/mmocr/textrecog/sar/sar_r31_parallel_decoder_academic-dba3a4a3.pth\n"
          ]
        },
        {
          "output_type": "stream",
          "name": "stderr",
          "text": [
            "/mmocr/mmocr/apis/inference.py:50: UserWarning: Class names are not saved in the checkpoint's meta data, use COCO classes by default.\n",
            "  warnings.warn('Class names are not saved in the checkpoint\\'s '\n"
          ]
        }
      ]
    },
    {
      "cell_type": "code",
      "source": [
        "\n",
        "dpath='/content/drive/MyDrive/demo_file_ocr/source_image/N0_AG_EY.png'\n",
        "opath=None\n",
        "results=mmocr.readtext(dpath, print_result=True, output=opath, details=False)"
      ],
      "metadata": {
        "colab": {
          "base_uri": "https://localhost:8080/"
        },
        "id": "VVB_5Xd9zK1w",
        "outputId": "de0fa50b-7edc-4c93-aafb-b947c756a571"
      },
      "execution_count": 9,
      "outputs": [
        {
          "output_type": "stream",
          "name": "stderr",
          "text": [
            "/usr/local/lib/python3.7/dist-packages/mmdet/datasets/utils.py:70: UserWarning: \"ImageToTensor\" pipeline is replaced by \"DefaultFormatBundle\" for batch inference. It is recommended to manually replace it in the test data pipeline in your config file.\n",
            "  'data pipeline in your config file.', UserWarning)\n",
            "/mmocr/mmocr/models/textdet/postprocess/utils.py:51: DeprecationWarning: `np.bool` is a deprecated alias for the builtin `bool`. To silence this warning, use `bool` by itself. Doing this will not modify any behavior and is safe. If you specifically wanted the numpy scalar type, use `np.bool_` here.\n",
            "Deprecated in NumPy 1.20; for more details and guidance: https://numpy.org/devdocs/release/1.20.0-notes.html#deprecations\n",
            "  canvas = canvas[1:h + 1, 1:w + 1].astype(np.bool)\n",
            "/usr/local/lib/python3.7/dist-packages/torch/nn/functional.py:780: UserWarning: Note that order of the arguments: ceil_mode and return_indices will changeto match the args list in nn.MaxPool2d in a future release.\n",
            "  warnings.warn(\"Note that order of the arguments: ceil_mode and return_indices will change\"\n"
          ]
        },
        {
          "output_type": "stream",
          "name": "stdout",
          "text": [
            "{'filename': 'N0_AG_EY', 'text': ['2we', 'NO']}\n",
            "\n"
          ]
        }
      ]
    },
    {
      "cell_type": "code",
      "source": [
        "print(results)"
      ],
      "metadata": {
        "colab": {
          "base_uri": "https://localhost:8080/"
        },
        "id": "SzUtCNj50Wj5",
        "outputId": "eb5fc60e-4971-4a41-9759-c4fc9e6c60d0"
      },
      "execution_count": 5,
      "outputs": [
        {
          "output_type": "stream",
          "name": "stdout",
          "text": [
            "[{'boundary_result': [[1179.4908962249756, 1051.8261065483093, 1176.7090780735016, 1054.6087152957916, 1165.5818054676056, 1054.6087152957916, 1162.7999873161316, 1057.391324043274, 1157.2363510131836, 1057.391324043274, 1151.6727147102356, 1062.9565415382385, 1148.8908965587616, 1062.9565415382385, 1137.7636239528656, 1074.0869765281677, 1137.7636239528656, 1076.86958527565, 1132.1999876499176, 1082.4348027706146, 1132.1999876499176, 1088.0000202655792, 1129.4181694984436, 1090.7826290130615, 1129.4181694984436, 1093.5652377605438, 1126.6363513469696, 1096.3478465080261, 1123.8545331954956, 1093.5652377605438, 1121.0727150440216, 1093.5652377605438, 1115.5090787410736, 1088.0000202655792, 1112.7272605895996, 1088.0000202655792, 1107.1636242866516, 1082.4348027706146, 1104.3818061351776, 1082.4348027706146, 1101.5999879837036, 1079.6521940231323, 1096.0363516807556, 1079.6521940231323, 1093.2545335292816, 1076.86958527565, 1084.9090790748596, 1076.86958527565, 1082.1272609233856, 1074.0869765281677, 1073.7818064689636, 1074.0869765281677, 1070.9999883174896, 1071.3043677806854, 1068.2181701660156, 1071.3043677806854, 1065.4363520145416, 1074.0869765281677, 1059.8727157115936, 1074.0869765281677, 1057.0908975601196, 1076.86958527565, 1054.3090794086456, 1076.86958527565, 1051.5272612571716, 1079.6521940231323, 1051.5272612571716, 1082.4348027706146, 1048.7454431056976, 1085.217411518097, 1048.7454431056976, 1090.7826290130615, 1045.9636249542236, 1093.5652377605438, 1048.7454431056976, 1096.3478465080261, 1048.7454431056976, 1101.9130640029907, 1051.5272612571716, 1104.695672750473, 1051.5272612571716, 1110.2608902454376, 1062.6545338630676, 1121.3913252353668, 1062.6545338630676, 1124.1739339828491, 1070.9999883174896, 1132.521760225296, 1073.7818064689636, 1132.521760225296, 1076.5636246204376, 1135.3043689727783, 1076.5636246204376, 1146.4348039627075, 1073.7818064689636, 1149.2174127101898, 1073.7818064689636, 1163.1304564476013, 1068.2181701660156, 1168.695673942566, 1068.2181701660156, 1171.4782826900482, 1065.4363520145416, 1174.2608914375305, 1065.4363520145416, 1177.0435001850128, 1059.8727157115936, 1182.6087176799774, 1059.8727157115936, 1188.173935174942, 1057.0908975601196, 1190.9565439224243, 1057.0908975601196, 1202.0869789123535, 1054.3090794086456, 1204.8695876598358, 1057.0908975601196, 1207.6521964073181, 1057.0908975601196, 1218.7826313972473, 1059.8727157115936, 1221.5652401447296, 1059.8727157115936, 1229.9130663871765, 1062.6545338630676, 1232.6956751346588, 1062.6545338630676, 1238.2608926296234, 1070.9999883174896, 1246.6087188720703, 1070.9999883174896, 1249.3913276195526, 1073.7818064689636, 1249.3913276195526, 1079.3454427719116, 1254.9565451145172, 1079.3454427719116, 1257.7391538619995, 1082.1272609233856, 1257.7391538619995, 1090.4727153778076, 1266.0869801044464, 1093.2545335292816, 1266.0869801044464, 1101.5999879837036, 1274.4348063468933, 1107.1636242866516, 1274.4348063468933, 1109.9454424381256, 1277.2174150943756, 1121.0727150440216, 1277.2174150943756, 1123.8545331954956, 1280.000023841858, 1126.6363513469696, 1277.2174150943756, 1129.4181694984436, 1280.000023841858, 1132.1999876499176, 1277.2174150943756, 1143.3272602558136, 1277.2174150943756, 1146.1090784072876, 1274.4348063468933, 1151.6727147102356, 1274.4348063468933, 1157.2363510131836, 1268.8695888519287, 1160.0181691646576, 1268.8695888519287, 1165.5818054676056, 1263.304371356964, 1168.3636236190796, 1266.0869801044464, 1179.4908962249756, 1266.0869801044464, 1182.2727143764496, 1268.8695888519287, 1185.0545325279236, 1266.0869801044464, 1196.1818051338196, 1266.0869801044464, 1198.9636232852936, 1263.304371356964, 1204.5272595882416, 1263.304371356964, 1210.0908958911896, 1257.7391538619995, 1212.8727140426636, 1257.7391538619995, 1221.2181684970856, 1249.3913276195526, 1221.2181684970856, 1246.6087188720703, 1226.7818048000336, 1241.0435013771057, 1226.7818048000336, 1235.478283882141, 1229.5636229515076, 1232.6956751346588, 1229.5636229515076, 1221.5652401447296, 1232.3454411029816, 1218.7826313972473, 1229.5636229515076, 1216.000022649765, 1229.5636229515076, 1204.8695876598358, 1226.7818048000336, 1202.0869789123535, 1226.7818048000336, 1196.521761417389, 1232.3454411029816, 1190.9565439224243, 1232.3454411029816, 1188.173935174942, 1235.1272592544556, 1185.3913264274597, 1235.1272592544556, 1179.8261089324951, 1237.9090774059296, 1177.0435001850128, 1237.9090774059296, 1165.9130651950836, 1240.6908955574036, 1163.1304564476013, 1240.6908955574036, 1160.347847700119, 1243.4727137088776, 1157.5652389526367, 1243.4727137088776, 1154.7826302051544, 1249.0363500118256, 1149.2174127101898, 1249.0363500118256, 1143.6521952152252, 1251.8181681632996, 1140.869586467743, 1251.8181681632996, 1129.7391514778137, 1254.5999863147736, 1126.9565427303314, 1251.8181681632996, 1124.1739339828491, 1251.8181681632996, 1113.04349899292, 1249.0363500118256, 1110.2608902454376, 1249.0363500118256, 1104.695672750473, 1246.2545318603516, 1101.9130640029907, 1246.2545318603516, 1099.1304552555084, 1240.6908955574036, 1093.5652377605438, 1240.6908955574036, 1088.0000202655792, 1235.1272592544556, 1082.4348027706146, 1235.1272592544556, 1079.6521940231323, 1218.4363503456116, 1062.9565415382385, 1215.6545321941376, 1062.9565415382385, 1210.0908958911896, 1057.391324043274, 1204.5272595882416, 1057.391324043274, 1201.7454414367676, 1054.6087152957916, 1190.6181688308716, 1054.6087152957916, 1187.8363506793976, 1051.8261065483093, 1185.0545325279236, 1054.6087152957916, 1182.2727143764496, 1054.6087152957916, 0.8126857275985896], [1104.3818061351776, 598.2608807086945, 1101.5999879837036, 601.0434894561768, 1087.6908972263336, 601.0434894561768, 1084.9090790748596, 603.8260982036591, 1079.3454427719116, 603.8260982036591, 1076.5636246204376, 606.6087069511414, 1073.7818064689636, 606.6087069511414, 1065.4363520145416, 614.9565331935883, 1062.6545338630676, 614.9565331935883, 1059.8727157115936, 617.7391419410706, 1059.8727157115936, 620.5217506885529, 1051.5272612571716, 628.8695769309998, 1051.5272612571716, 631.652185678482, 1048.7454431056976, 634.4347944259644, 1048.7454431056976, 640.000011920929, 1045.9636249542236, 642.7826206684113, 1045.9636249542236, 656.6956644058228, 1043.1818068027496, 659.478273153305, 1045.9636249542236, 662.2608819007874, 1045.9636249542236, 676.1739256381989, 1048.7454431056976, 678.9565343856812, 1048.7454431056976, 684.5217518806458, 1051.5272612571716, 687.304360628128, 1051.5272612571716, 690.0869693756104, 1059.8727157115936, 698.4347956180573, 1059.8727157115936, 701.2174043655396, 1065.4363520145416, 706.7826218605042, 1068.2181701660156, 706.7826218605042, 1076.5636246204376, 715.130448102951, 1079.3454427719116, 715.130448102951, 1082.1272609233856, 717.9130568504333, 1087.6908972263336, 717.9130568504333, 1090.4727153778076, 720.6956655979156, 1104.3818061351776, 720.6956655979156, 1107.1636242866516, 723.478274345398, 1109.9454424381256, 720.6956655979156, 1112.7272605895996, 723.478274345398, 1115.5090787410736, 720.6956655979156, 1118.2908968925476, 723.478274345398, 1121.0727150440216, 720.6956655979156, 1123.8545331954956, 723.478274345398, 1126.6363513469696, 720.6956655979156, 1129.4181694984436, 723.478274345398, 1132.1999876499176, 720.6956655979156, 1134.9818058013916, 720.6956655979156, 1137.7636239528656, 723.478274345398, 1140.5454421043396, 720.6956655979156, 1143.3272602558136, 720.6956655979156, 1146.1090784072876, 723.478274345398, 1148.8908965587616, 720.6956655979156, 1151.6727147102356, 723.478274345398, 1154.4545328617096, 720.6956655979156, 1157.2363510131836, 723.478274345398, 1160.0181691646576, 720.6956655979156, 1162.7999873161316, 723.478274345398, 1165.5818054676056, 720.6956655979156, 1168.3636236190796, 723.478274345398, 1171.1454417705536, 720.6956655979156, 1173.9272599220276, 723.478274345398, 1176.7090780735016, 720.6956655979156, 1179.4908962249756, 720.6956655979156, 1182.2727143764496, 723.478274345398, 1185.0545325279236, 720.6956655979156, 1196.1818051338196, 720.6956655979156, 1198.9636232852936, 723.478274345398, 1201.7454414367676, 720.6956655979156, 1207.3090777397156, 720.6956655979156, 1210.0908958911896, 723.478274345398, 1212.8727140426636, 720.6956655979156, 1226.7818048000336, 720.6956655979156, 1229.5636229515076, 717.9130568504333, 1235.1272592544556, 717.9130568504333, 1237.9090774059296, 715.130448102951, 1240.6908955574036, 715.130448102951, 1249.0363500118256, 706.7826218605042, 1251.8181681632996, 706.7826218605042, 1254.5999863147736, 704.0000131130219, 1254.5999863147736, 701.2174043655396, 1262.9454407691956, 692.8695781230927, 1262.9454407691956, 690.0869693756104, 1265.7272589206696, 687.304360628128, 1265.7272589206696, 681.7391431331635, 1268.5090770721436, 678.9565343856812, 1268.5090770721436, 665.0434906482697, 1271.2908952236176, 662.2608819007874, 1268.5090770721436, 659.478273153305, 1268.5090770721436, 645.5652294158936, 1265.7272589206696, 642.7826206684113, 1265.7272589206696, 637.2174031734467, 1262.9454407691956, 634.4347944259644, 1262.9454407691956, 631.652185678482, 1254.5999863147736, 623.3043594360352, 1254.5999863147736, 620.5217506885529, 1251.8181681632996, 617.7391419410706, 1249.0363500118256, 617.7391419410706, 1240.6908955574036, 609.3913156986237, 1237.9090774059296, 609.3913156986237, 1235.1272592544556, 606.6087069511414, 1229.5636229515076, 606.6087069511414, 1226.7818048000336, 603.8260982036591, 1212.8727140426636, 603.8260982036591, 1210.0908958911896, 601.0434894561768, 1207.3090777397156, 603.8260982036591, 1185.0545325279236, 603.8260982036591, 1182.2727143764496, 601.0434894561768, 1179.4908962249756, 603.8260982036591, 1176.7090780735016, 603.8260982036591, 1173.9272599220276, 601.0434894561768, 1171.1454417705536, 603.8260982036591, 1168.3636236190796, 601.0434894561768, 1165.5818054676056, 603.8260982036591, 1162.7999873161316, 601.0434894561768, 1160.0181691646576, 603.8260982036591, 1157.2363510131836, 601.0434894561768, 1154.4545328617096, 603.8260982036591, 1151.6727147102356, 601.0434894561768, 1148.8908965587616, 603.8260982036591, 1146.1090784072876, 601.0434894561768, 1143.3272602558136, 603.8260982036591, 1140.5454421043396, 603.8260982036591, 1137.7636239528656, 601.0434894561768, 1134.9818058013916, 603.8260982036591, 1132.1999876499176, 603.8260982036591, 1129.4181694984436, 601.0434894561768, 1112.7272605895996, 601.0434894561768, 1109.9454424381256, 598.2608807086945, 1107.1636242866516, 601.0434894561768, 0.8218104410832521]], 'filename': None}]\n"
          ]
        }
      ]
    },
    {
      "cell_type": "markdown",
      "source": [
        "Function to call loop of images from *folder*"
      ],
      "metadata": {
        "id": "ZtZm_As6eaVh"
      }
    },
    {
      "cell_type": "code",
      "source": [
        "\n",
        "def inferncing_per_image(dpath,opath=None):\n",
        "  \"\"\"\n",
        "  '/content/N0,AG,Fd.jpg\n",
        "  '/content/demo_text_ocr_outputNo(1).jpg'\n",
        "  \"\"\"\n",
        "  \n",
        "  \n",
        "  results=mmocr.readtext(dpath, print_result=True, output=opath, details=False)\n",
        "  return results"
      ],
      "metadata": {
        "id": "YAoZO_5CXegF"
      },
      "execution_count": 6,
      "outputs": []
    },
    {
      "cell_type": "code",
      "source": [
        "from glob import glob \n",
        "from tqdm import tqdm\n",
        "\n",
        "#rdir='/content/drive/MyDrive/II-IVData'\n",
        "rdir='/content/DataReshape/DataReshape'\n",
        "path_all=glob(f'{rdir}/*.jpg')\n",
        "\n",
        "all_res=[inferncing_per_image(dpath) for dpath in tqdm(path_all)]\n",
        "\n",
        "\n"
      ],
      "metadata": {
        "id": "Rn6lqPNql4wD",
        "colab": {
          "base_uri": "https://localhost:8080/"
        },
        "outputId": "0dd5ccec-236a-40bd-c00b-1da91d69495d"
      },
      "execution_count": 7,
      "outputs": [
        {
          "output_type": "stream",
          "name": "stderr",
          "text": [
            "0it [00:00, ?it/s]\n"
          ]
        }
      ]
    },
    {
      "cell_type": "markdown",
      "source": [
        "Joblib"
      ],
      "metadata": {
        "id": "sZ90sFFYe5aH"
      }
    },
    {
      "cell_type": "code",
      "source": [
        "print(all_res)"
      ],
      "metadata": {
        "id": "L4ShlMPAojTJ",
        "colab": {
          "base_uri": "https://localhost:8080/"
        },
        "outputId": "24d8d135-07e6-43db-e85f-a5d604ae27ce"
      },
      "execution_count": null,
      "outputs": [
        {
          "output_type": "stream",
          "name": "stdout",
          "text": [
            "[[{'filename': 'N0,AG,Fd (2)', 'text': ['the', 'AG', 'NO']}], [{'filename': 'N2,AB,LN', 'text': ['LN', 'AB', 'N2']}], [{'filename': 'N2,AB,MG', 'text': ['MG', 'you', 'AB', 'N2']}], [{'filename': 'N2,AH,LB', 'text': ['the', 'B', 'AH', '-', 'N2']}], [{'filename': 'N0,DH,P6', 'text': ['P6', 'DH', 'NO']}], [{'filename': 'N0,AG,EY', 'text': ['El', 'AG', 'NO']}], [{'filename': 'N0,AG,ES', 'text': ['ES', 'AG', 'NO']}], [{'filename': 'N0,AG,FN', 'text': ['FN', 'is', 'NO']}], [{'filename': 'N2,AB,JQ', 'text': ['the', 'the', 'jq', 'AB', 'N2']}], [{'filename': 'N1,DG,AS', 'text': ['as', 'DC', 'DG', 'N1']}], [{'filename': 'N0,AG,GL', 'text': ['GL', 'AG', 'NO']}], [{'filename': 'N2,AG,H9', 'text': ['AGO', 'N2']}], [{'filename': 'N0,AG,GG(1)', 'text': ['GG', 'G', 'I', 'G', 'NO']}], [{'filename': 'N2,AB,JP', 'text': ['the', 'jp', 'AB', ':', 'a', 'N2']}], [{'filename': 'N0,AG,EP', 'text': ['E', 'OG', 'AG', 'NO']}], [{'filename': 'N0,AG,GG(3)', 'text': ['GG', 'AG', 'NO']}], [{'filename': 'N2,AH,NJ', 'text': ['NJ', 'the', 'AH', 'N2']}], [{'filename': 'N2,AG,FR', 'text': ['-', 'I', 'a', 'AG', 'to', 'New']}], [{'filename': 'N1,DG,DR (2)', 'text': ['DR', 'Subject:', 'DISTRICTION', 'DG']}], [{'filename': 'N1,DG,An', 'text': ['An', 'DG', 'N1']}], [{'filename': 'N1,DG,An (1)', 'text': ['An', 'the', 'DG', 'N1']}], [{'filename': 'N0,AG,GG', 'text': ['a', 'GG', 'IG', '-', 'the']}], [{'filename': 'N0,AG,EQ(1)', 'text': ['S', '-', 'G.G.', 'AG', 'NO']}], [{'filename': 'N0,AG,Fd', 'text': ['the', 'a', '-', 'a', 'G', 'NO']}], [{'filename': 'N2,AB,LM(1)', 'text': ['LIM', 'AB', 'N2']}], [{'filename': 'N3,BB,P3', 'text': ['and', 'P3', 'BB', 'is', 'N3']}], [{'filename': 'N0,AG,GG(4)', 'text': ['GG', 'the', 'the', 'g', 'NO']}], [{'filename': 'N2,AB,LN (2)', 'text': ['LN', 'AB', 'N2']}], [{'filename': 'N2,AB,KF', 'text': ['you', 'AB', 'N2']}], [{'filename': 'N2,AG,Gn', 'text': ['Gn', 'AG', ':', 'N2']}], [{'filename': 'N2,AH,LM', 'text': ['I', 'Lines:', 'the', 'AH', 'N2']}], [{'filename': 'N2,AB,LN (3)', 'text': ['LN', 'AB', 'N2']}], [{'filename': 'N2,BF,IY', 'text': ['Computer', 'a', 'BF', 'N3']}], [{'filename': 'N2,AG,GH', 'text': ['JH', 'AG', 'N2']}], [{'filename': 'N1,DG,DR', 'text': ['202', 'DG', 'N1']}], [{'filename': 'N0,AG,EX(3)', 'text': ['EX', '-', 'is', 'NO']}], [{'filename': 'N1,DG,Am', 'text': ['Am', 'DG', 'N1']}], [{'filename': 'N2,AB,KR', 'text': ['ABM', 'N2']}], [{'filename': 'N2,AG,Cd', 'text': ['Computer', 'Cd', 'the', 'AG', 'N2']}], [{'filename': 'N2,AB,KF(1)', 'text': ['AB', 'N2']}], [{'filename': 'N2,AB,JU', 'text': ['Ju', 'AB', ':', 'N2']}], [{'filename': 'N2,KG,K2', 'text': ['K2', 'AG', 'N2']}], [{'filename': 'N3,AB,LG', 'text': ['G', 'I', 'Interpretation', 'AB', 'N2']}], [{'filename': 'N2,AB,MG (1)', 'text': ['the', 'AB', 'N2']}], [{'filename': 'N2,AB,KR (1)', 'text': ['ABM', 'N2']}], [{'filename': 'N3,BB,DN (2)', 'text': ['D.N.', 'the', 'BB', 'N3']}], [{'filename': 'N2,AB,KE', 'text': ['E', 'AB', 'N2']}], [{'filename': 'N0,AG,EX(2)', 'text': ['Eli', 'the', 'is', 'NO']}], [{'filename': 'N0,AG,EX', 'text': ['E>', 'AG', 'NO']}], [{'filename': 'N0,AG,EY (1)', 'text': ['Sat,', 'C', 'AG', 'NO']}], [{'filename': 'N3,BB,B5', 'text': ['B5', 'Distribution:', 'you', 'BB', 'N3']}], [{'filename': 'N0,AG,EP (5)', 'text': ['a', 'NO']}], [{'filename': 'N2,AG,CT', 'text': ['CT', 'AG', 'N2']}], [{'filename': 'N3,BB,P3 (2)', 'text': ['P3', 'BB', 'is', 'N3']}], [{'filename': 'N0,AG,EX(1)', 'text': ['a', '16', 'I']}], [{'filename': 'N2,AB,JB', 'text': ['JB', 'the', 'of', 'AB', 'N2']}], [{'filename': 'N2,AB,KE(1)', 'text': ['AB', 'N2']}], [{'filename': 'N3,BB,DN', 'text': ['D.N.', 'the', 'BB', 'N3']}], [{'filename': 'N0,AG,GG(2)', 'text': ['GG', 'and', 'G', 'NO']}], [{'filename': 'N2,AB,JP (1)', 'text': ['the', 'jp', 'AB', 'the', 'N2']}], [{'filename': 'N2,AB,LM', 'text': ['a', 'AB', 'N2']}], [{'filename': 'N2,AG,H7', 'text': ['H7', 'the', 'the', 'AG', 'N2']}]]\n"
          ]
        }
      ]
    },
    {
      "cell_type": "code",
      "source": [
        "# !pip install pandas\n",
        "import pandas as pd\n",
        "df=pd.DataFrame(all_res)  "
      ],
      "metadata": {
        "id": "pj1w4yrimbax"
      },
      "execution_count": null,
      "outputs": []
    },
    {
      "cell_type": "code",
      "source": [
        "df.head()"
      ],
      "metadata": {
        "id": "z217G6q0pmCl",
        "colab": {
          "base_uri": "https://localhost:8080/",
          "height": 206
        },
        "outputId": "41f9d14f-0282-4f0c-eef3-c6349955dbfd"
      },
      "execution_count": null,
      "outputs": [
        {
          "output_type": "execute_result",
          "data": {
            "text/html": [
              "\n",
              "  <div id=\"df-b350625a-f3ad-4ceb-864c-e048e475a7cd\">\n",
              "    <div class=\"colab-df-container\">\n",
              "      <div>\n",
              "<style scoped>\n",
              "    .dataframe tbody tr th:only-of-type {\n",
              "        vertical-align: middle;\n",
              "    }\n",
              "\n",
              "    .dataframe tbody tr th {\n",
              "        vertical-align: top;\n",
              "    }\n",
              "\n",
              "    .dataframe thead th {\n",
              "        text-align: right;\n",
              "    }\n",
              "</style>\n",
              "<table border=\"1\" class=\"dataframe\">\n",
              "  <thead>\n",
              "    <tr style=\"text-align: right;\">\n",
              "      <th></th>\n",
              "      <th>0</th>\n",
              "    </tr>\n",
              "  </thead>\n",
              "  <tbody>\n",
              "    <tr>\n",
              "      <th>0</th>\n",
              "      <td>{'filename': 'N0,AG,Fd (2)', 'text': ['the', '...</td>\n",
              "    </tr>\n",
              "    <tr>\n",
              "      <th>1</th>\n",
              "      <td>{'filename': 'N2,AB,LN', 'text': ['LN', 'AB', ...</td>\n",
              "    </tr>\n",
              "    <tr>\n",
              "      <th>2</th>\n",
              "      <td>{'filename': 'N2,AB,MG', 'text': ['MG', 'you',...</td>\n",
              "    </tr>\n",
              "    <tr>\n",
              "      <th>3</th>\n",
              "      <td>{'filename': 'N2,AH,LB', 'text': ['the', 'B', ...</td>\n",
              "    </tr>\n",
              "    <tr>\n",
              "      <th>4</th>\n",
              "      <td>{'filename': 'N0,DH,P6', 'text': ['P6', 'DH', ...</td>\n",
              "    </tr>\n",
              "  </tbody>\n",
              "</table>\n",
              "</div>\n",
              "      <button class=\"colab-df-convert\" onclick=\"convertToInteractive('df-b350625a-f3ad-4ceb-864c-e048e475a7cd')\"\n",
              "              title=\"Convert this dataframe to an interactive table.\"\n",
              "              style=\"display:none;\">\n",
              "        \n",
              "  <svg xmlns=\"http://www.w3.org/2000/svg\" height=\"24px\"viewBox=\"0 0 24 24\"\n",
              "       width=\"24px\">\n",
              "    <path d=\"M0 0h24v24H0V0z\" fill=\"none\"/>\n",
              "    <path d=\"M18.56 5.44l.94 2.06.94-2.06 2.06-.94-2.06-.94-.94-2.06-.94 2.06-2.06.94zm-11 1L8.5 8.5l.94-2.06 2.06-.94-2.06-.94L8.5 2.5l-.94 2.06-2.06.94zm10 10l.94 2.06.94-2.06 2.06-.94-2.06-.94-.94-2.06-.94 2.06-2.06.94z\"/><path d=\"M17.41 7.96l-1.37-1.37c-.4-.4-.92-.59-1.43-.59-.52 0-1.04.2-1.43.59L10.3 9.45l-7.72 7.72c-.78.78-.78 2.05 0 2.83L4 21.41c.39.39.9.59 1.41.59.51 0 1.02-.2 1.41-.59l7.78-7.78 2.81-2.81c.8-.78.8-2.07 0-2.86zM5.41 20L4 18.59l7.72-7.72 1.47 1.35L5.41 20z\"/>\n",
              "  </svg>\n",
              "      </button>\n",
              "      \n",
              "  <style>\n",
              "    .colab-df-container {\n",
              "      display:flex;\n",
              "      flex-wrap:wrap;\n",
              "      gap: 12px;\n",
              "    }\n",
              "\n",
              "    .colab-df-convert {\n",
              "      background-color: #E8F0FE;\n",
              "      border: none;\n",
              "      border-radius: 50%;\n",
              "      cursor: pointer;\n",
              "      display: none;\n",
              "      fill: #1967D2;\n",
              "      height: 32px;\n",
              "      padding: 0 0 0 0;\n",
              "      width: 32px;\n",
              "    }\n",
              "\n",
              "    .colab-df-convert:hover {\n",
              "      background-color: #E2EBFA;\n",
              "      box-shadow: 0px 1px 2px rgba(60, 64, 67, 0.3), 0px 1px 3px 1px rgba(60, 64, 67, 0.15);\n",
              "      fill: #174EA6;\n",
              "    }\n",
              "\n",
              "    [theme=dark] .colab-df-convert {\n",
              "      background-color: #3B4455;\n",
              "      fill: #D2E3FC;\n",
              "    }\n",
              "\n",
              "    [theme=dark] .colab-df-convert:hover {\n",
              "      background-color: #434B5C;\n",
              "      box-shadow: 0px 1px 3px 1px rgba(0, 0, 0, 0.15);\n",
              "      filter: drop-shadow(0px 1px 2px rgba(0, 0, 0, 0.3));\n",
              "      fill: #FFFFFF;\n",
              "    }\n",
              "  </style>\n",
              "\n",
              "      <script>\n",
              "        const buttonEl =\n",
              "          document.querySelector('#df-b350625a-f3ad-4ceb-864c-e048e475a7cd button.colab-df-convert');\n",
              "        buttonEl.style.display =\n",
              "          google.colab.kernel.accessAllowed ? 'block' : 'none';\n",
              "\n",
              "        async function convertToInteractive(key) {\n",
              "          const element = document.querySelector('#df-b350625a-f3ad-4ceb-864c-e048e475a7cd');\n",
              "          const dataTable =\n",
              "            await google.colab.kernel.invokeFunction('convertToInteractive',\n",
              "                                                     [key], {});\n",
              "          if (!dataTable) return;\n",
              "\n",
              "          const docLinkHtml = 'Like what you see? Visit the ' +\n",
              "            '<a target=\"_blank\" href=https://colab.research.google.com/notebooks/data_table.ipynb>data table notebook</a>'\n",
              "            + ' to learn more about interactive tables.';\n",
              "          element.innerHTML = '';\n",
              "          dataTable['output_type'] = 'display_data';\n",
              "          await google.colab.output.renderOutput(dataTable, element);\n",
              "          const docLink = document.createElement('div');\n",
              "          docLink.innerHTML = docLinkHtml;\n",
              "          element.appendChild(docLink);\n",
              "        }\n",
              "      </script>\n",
              "    </div>\n",
              "  </div>\n",
              "  "
            ],
            "text/plain": [
              "                                                   0\n",
              "0  {'filename': 'N0,AG,Fd (2)', 'text': ['the', '...\n",
              "1  {'filename': 'N2,AB,LN', 'text': ['LN', 'AB', ...\n",
              "2  {'filename': 'N2,AB,MG', 'text': ['MG', 'you',...\n",
              "3  {'filename': 'N2,AH,LB', 'text': ['the', 'B', ...\n",
              "4  {'filename': 'N0,DH,P6', 'text': ['P6', 'DH', ..."
            ]
          },
          "metadata": {},
          "execution_count": 17
        }
      ]
    },
    {
      "cell_type": "code",
      "source": [
        "# Visualize the results\n",
        "# import matplotlib.pyplot as plt\n",
        "# predicted_img = mmcv.imread('/content/demo_text_ocr_outputNo(1).jpg')\n",
        "# plt.figure(figsize=(9, 16))\n",
        "# plt.imshow(mmcv.bgr2rgb(predicted_img))\n",
        "# plt.show()"
      ],
      "metadata": {
        "id": "8Ps76-QqXg-c"
      },
      "execution_count": null,
      "outputs": []
    },
    {
      "cell_type": "code",
      "source": [
        "# SDMGR relies on the dictionary provided in wildreceipt\n",
        "# First download the KIE dataset .tar file and extract it to ./data\n",
        "# !mkdir data\n",
        "# !wget https://download.openmmlab.com/mmocr/data/wildreceipt.tar\n",
        "# !tar -xf wildreceipt.tar \n",
        "# !mv wildreceipt ./data"
      ],
      "metadata": {
        "id": "_5fUuMgFXjf1"
      },
      "execution_count": null,
      "outputs": []
    },
    {
      "cell_type": "code",
      "source": [
        "# from mmocr.utils.ocr import MMOCR\n",
        "# mmocr = MMOCR(det='TextSnake', recog='SATRN_sm')\n",
        "# mmocr.readtext('/content/N0,AG,EQ(1).jpg', print_result=True, output='/content/demo_text_ocr_outputNo(5).jpg')"
      ],
      "metadata": {
        "id": "aeDQ2IfkXlz9"
      },
      "execution_count": null,
      "outputs": []
    },
    {
      "cell_type": "code",
      "source": [
        "# # Visualize the results\n",
        "# import matplotlib.pyplot as plt\n",
        "# predicted_img = mmcv.imread('/content/demo_text_ocr_outputNo(5).jpg')\n",
        "# plt.figure(figsize=(18, 50))\n",
        "# plt.imshow(mmcv.bgr2rgb(predicted_img))\n",
        "# plt.show()"
      ],
      "metadata": {
        "id": "EK1uZdrtXmh9"
      },
      "execution_count": null,
      "outputs": []
    }
  ]
}